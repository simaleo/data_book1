{
 "cells": [
  {
   "cell_type": "code",
   "execution_count": 1,
   "id": "9b100b1f",
   "metadata": {},
   "outputs": [],
   "source": [
    "# Importation de la librairie\n",
    "import pandas as pd\n",
    "\n",
    "# Importation des données depuis mon sit Github\n",
    "file = \"https://raw.githubusercontent.com/simaleo/data_book1/main/hdv2003.csv\"\n",
    "data = pd.read_csv(file)"
   ]
  },
  {
   "cell_type": "code",
   "execution_count": 2,
   "id": "3688caaa",
   "metadata": {},
   "outputs": [],
   "source": [
    "# import os\n",
    "# path = \"/home/hp/Documents/Book1/data/data/\"\n",
    "# os.chdir(path)"
   ]
  },
  {
   "cell_type": "code",
   "execution_count": 3,
   "id": "1b8ee203",
   "metadata": {},
   "outputs": [],
   "source": [
    "# data = pd.read_csv('hdv2003.csv')"
   ]
  },
  {
   "cell_type": "markdown",
   "id": "2e6286bc",
   "metadata": {},
   "source": [
    "# NATURE DES VARIABLES"
   ]
  },
  {
   "cell_type": "code",
   "execution_count": 4,
   "id": "da547c56",
   "metadata": {},
   "outputs": [
    {
     "data": {
      "text/plain": [
       "id                 int64\n",
       "age                int64\n",
       "sexe              object\n",
       "nivetud           object\n",
       "poids            float64\n",
       "occup             object\n",
       "qualif            object\n",
       "freres.soeurs      int64\n",
       "clso              object\n",
       "relig             object\n",
       "trav.imp          object\n",
       "trav.satisf       object\n",
       "hard.rock         object\n",
       "lecture.bd        object\n",
       "peche.chasse      object\n",
       "cuisine           object\n",
       "bricol            object\n",
       "cinema            object\n",
       "sport             object\n",
       "heures.tv        float64\n",
       "dtype: object"
      ]
     },
     "execution_count": 4,
     "metadata": {},
     "output_type": "execute_result"
    }
   ],
   "source": [
    "# Type de variables\n",
    "data.dtypes"
   ]
  },
  {
   "cell_type": "code",
   "execution_count": 5,
   "id": "4ae948a9",
   "metadata": {},
   "outputs": [
    {
     "data": {
      "text/plain": [
       "array(['Femme', 'Homme'], dtype=object)"
      ]
     },
     "execution_count": 5,
     "metadata": {},
     "output_type": "execute_result"
    }
   ],
   "source": [
    "# Variable binaire\n",
    "data['sexe'].unique()"
   ]
  },
  {
   "cell_type": "code",
   "execution_count": 6,
   "id": "09c20596",
   "metadata": {},
   "outputs": [
    {
     "data": {
      "text/plain": [
       "array(['Employe', 'Technicien', 'Ouvrier qualifie', 'Autre', 'Cadre',\n",
       "       'Ouvrier specialise', 'Profession intermediaire'], dtype=object)"
      ]
     },
     "execution_count": 6,
     "metadata": {},
     "output_type": "execute_result"
    }
   ],
   "source": [
    "# Variable nominale\n",
    "data['qualif'].dropna().unique()"
   ]
  },
  {
   "cell_type": "code",
   "execution_count": 7,
   "id": "d51acf3c",
   "metadata": {},
   "outputs": [
    {
     "data": {
      "text/plain": [
       "array(['Insatisfaction', 'Equilibre', 'Satisfaction'], dtype=object)"
      ]
     },
     "execution_count": 7,
     "metadata": {},
     "output_type": "execute_result"
    }
   ],
   "source": [
    "# Variable ordinale\n",
    "data[\"trav.satisf\"].dropna().unique()"
   ]
  },
  {
   "cell_type": "markdown",
   "id": "d1cdafb5",
   "metadata": {},
   "source": [
    "# ANALYSE D’UNE VARIABLE QUALITATIVE"
   ]
  },
  {
   "cell_type": "code",
   "execution_count": 8,
   "id": "a94e7810",
   "metadata": {},
   "outputs": [
    {
     "data": {
      "text/plain": [
       "(2000, 20)"
      ]
     },
     "execution_count": 8,
     "metadata": {},
     "output_type": "execute_result"
    }
   ],
   "source": [
    "# Effectif total de la population ou de l’échantillon\n",
    "data.shape"
   ]
  },
  {
   "cell_type": "code",
   "execution_count": 9,
   "id": "c6daaa38",
   "metadata": {},
   "outputs": [
    {
     "data": {
      "text/plain": [
       "id               2000\n",
       "age              2000\n",
       "sexe             2000\n",
       "nivetud          1888\n",
       "poids            2000\n",
       "occup            2000\n",
       "qualif           1653\n",
       "freres.soeurs    2000\n",
       "clso             2000\n",
       "relig            2000\n",
       "trav.imp         1048\n",
       "trav.satisf      1048\n",
       "hard.rock        2000\n",
       "lecture.bd       2000\n",
       "peche.chasse     2000\n",
       "cuisine          2000\n",
       "bricol           2000\n",
       "cinema           2000\n",
       "sport            2000\n",
       "heures.tv        1995\n",
       "dtype: int64"
      ]
     },
     "execution_count": 9,
     "metadata": {},
     "output_type": "execute_result"
    }
   ],
   "source": [
    "# Nombre total d’observation de chaque variable\n",
    "data.count()"
   ]
  },
  {
   "cell_type": "code",
   "execution_count": 10,
   "id": "f04a7c4c",
   "metadata": {},
   "outputs": [
    {
     "data": {
      "text/plain": [
       "Femme    1101\n",
       "Homme     899\n",
       "Name: sexe, dtype: int64"
      ]
     },
     "execution_count": 10,
     "metadata": {},
     "output_type": "execute_result"
    }
   ],
   "source": [
    "# Fréquences absolue des modalités de la variable sexe\n",
    "data['sexe'].value_counts()"
   ]
  },
  {
   "cell_type": "code",
   "execution_count": 11,
   "id": "1ad6cc9e",
   "metadata": {},
   "outputs": [
    {
     "data": {
      "text/plain": [
       "Femme    0.5505\n",
       "Homme    0.4495\n",
       "Name: sexe, dtype: float64"
      ]
     },
     "execution_count": 11,
     "metadata": {},
     "output_type": "execute_result"
    }
   ],
   "source": [
    "# Fréquences relative des modalités de la variable sexe\n",
    "data['sexe'].value_counts(normalize=True)"
   ]
  },
  {
   "cell_type": "code",
   "execution_count": 12,
   "id": "1f951ea9",
   "metadata": {},
   "outputs": [
    {
     "data": {
      "text/plain": [
       "Femme    55.05\n",
       "Homme    44.95\n",
       "Name: sexe, dtype: float64"
      ]
     },
     "execution_count": 12,
     "metadata": {},
     "output_type": "execute_result"
    }
   ],
   "source": [
    "# Pourcentage relatif des modalités de la variable sexe\n",
    "data['sexe'].value_counts(normalize=True)*100"
   ]
  },
  {
   "cell_type": "code",
   "execution_count": 13,
   "id": "f0293d85",
   "metadata": {},
   "outputs": [
    {
     "data": {
      "text/plain": [
       "Employe                      35.934664\n",
       "Ouvrier qualifie             53.599516\n",
       "Cadre                        69.328494\n",
       "Ouvrier specialise           81.609195\n",
       "Profession intermediaire     91.288566\n",
       "Technicien                   96.491228\n",
       "Autre                       100.000000\n",
       "Name: qualif, dtype: float64"
      ]
     },
     "execution_count": 13,
     "metadata": {},
     "output_type": "execute_result"
    }
   ],
   "source": [
    "# Fréquences cumulées des modalités de la variable qualif\n",
    "data['qualif'].value_counts(normalize=True).cumsum()*100"
   ]
  },
  {
   "cell_type": "code",
   "execution_count": 14,
   "id": "45808994",
   "metadata": {},
   "outputs": [
    {
     "data": {
      "text/plain": [
       "Exerce une profession    1049\n",
       "Retraite                  392\n",
       "Au foyer                  171\n",
       "Chomeur                   134\n",
       "Etudiant, eleve            94\n",
       "Autre inactif              83\n",
       "Retire des affaires        77\n",
       "Name: occup, dtype: int64"
      ]
     },
     "execution_count": 14,
     "metadata": {},
     "output_type": "execute_result"
    }
   ],
   "source": [
    "# Fréquences absolue des modalités de la variable occup\n",
    "data['occup'].value_counts()"
   ]
  },
  {
   "cell_type": "code",
   "execution_count": 15,
   "id": "ecd543de",
   "metadata": {},
   "outputs": [
    {
     "data": {
      "text/plain": [
       "0    Exerce une profession\n",
       "Name: occup, dtype: object"
      ]
     },
     "execution_count": 15,
     "metadata": {},
     "output_type": "execute_result"
    }
   ],
   "source": [
    "# Determination du mode de la variable occup\n",
    "data['occup'].mode()"
   ]
  },
  {
   "cell_type": "markdown",
   "id": "f758c0ed",
   "metadata": {},
   "source": [
    "# ANALYSE D’UNE VARIABLE QUANTITATIVE"
   ]
  },
  {
   "cell_type": "markdown",
   "id": "cc983542",
   "metadata": {},
   "source": [
    "### PARAMÈTRES DE POSITION"
   ]
  },
  {
   "cell_type": "code",
   "execution_count": 16,
   "id": "b9b41300",
   "metadata": {},
   "outputs": [
    {
     "data": {
      "text/plain": [
       "48.157"
      ]
     },
     "execution_count": 16,
     "metadata": {},
     "output_type": "execute_result"
    }
   ],
   "source": [
    "# Moyenne de la variable age\n",
    "data['age'].mean()"
   ]
  },
  {
   "cell_type": "code",
   "execution_count": 17,
   "id": "19d67b5c",
   "metadata": {},
   "outputs": [
    {
     "data": {
      "text/plain": [
       "48.0"
      ]
     },
     "execution_count": 17,
     "metadata": {},
     "output_type": "execute_result"
    }
   ],
   "source": [
    "# Médiane de la variable age\n",
    "data['age'].median()"
   ]
  },
  {
   "cell_type": "code",
   "execution_count": 18,
   "id": "35d72d89",
   "metadata": {},
   "outputs": [
    {
     "data": {
      "text/plain": [
       "0    48\n",
       "Name: age, dtype: int64"
      ]
     },
     "execution_count": 18,
     "metadata": {},
     "output_type": "execute_result"
    }
   ],
   "source": [
    "# Mode de la variable age\n",
    "data['age'].mode()"
   ]
  },
  {
   "cell_type": "markdown",
   "id": "6bcf219a",
   "metadata": {},
   "source": [
    "### PARAMÈTRE DE DISPERSION"
   ]
  },
  {
   "cell_type": "code",
   "execution_count": 19,
   "id": "9f5784a7",
   "metadata": {},
   "outputs": [
    {
     "data": {
      "text/plain": [
       "79"
      ]
     },
     "execution_count": 19,
     "metadata": {},
     "output_type": "execute_result"
    }
   ],
   "source": [
    "# Etendue de la variable age\n",
    "E = data['age'].max() - data['age'].min()\n",
    "E"
   ]
  },
  {
   "cell_type": "code",
   "execution_count": 20,
   "id": "756933d1",
   "metadata": {},
   "outputs": [
    {
     "data": {
      "text/plain": [
       "25.0"
      ]
     },
     "execution_count": 20,
     "metadata": {},
     "output_type": "execute_result"
    }
   ],
   "source": [
    "# Distance interquartile de la variable age\n",
    "IQR = data['age'].quantile(0.75) - data['age'].quantile(0.25)\n",
    "IQR"
   ]
  },
  {
   "cell_type": "code",
   "execution_count": 21,
   "id": "aa4ebc89",
   "metadata": {},
   "outputs": [
    {
     "data": {
      "text/plain": [
       "25.0"
      ]
     },
     "execution_count": 21,
     "metadata": {},
     "output_type": "execute_result"
    }
   ],
   "source": [
    "# Distance interquartile avec la fonction iqr()\n",
    "import scipy.stats as stat\n",
    "IQR = stat.iqr(data['age'])\n",
    "IQR"
   ]
  },
  {
   "cell_type": "code",
   "execution_count": 22,
   "id": "47b40c45",
   "metadata": {},
   "outputs": [
    {
     "data": {
      "text/plain": [
       "287.02486343171586"
      ]
     },
     "execution_count": 22,
     "metadata": {},
     "output_type": "execute_result"
    }
   ],
   "source": [
    "# Variance de la variable age\n",
    "data['age'].var()"
   ]
  },
  {
   "cell_type": "code",
   "execution_count": 23,
   "id": "40503e6d",
   "metadata": {},
   "outputs": [
    {
     "data": {
      "text/plain": [
       "16.941808151189644"
      ]
     },
     "execution_count": 23,
     "metadata": {},
     "output_type": "execute_result"
    }
   ],
   "source": [
    "# Écart-Type de la variable age\n",
    "data['age'].std()"
   ]
  },
  {
   "cell_type": "code",
   "execution_count": 24,
   "id": "308b7f80",
   "metadata": {},
   "outputs": [
    {
     "data": {
      "text/plain": [
       "35.0"
      ]
     },
     "execution_count": 24,
     "metadata": {},
     "output_type": "execute_result"
    }
   ],
   "source": [
    "# 1er quantile : 25 % \n",
    "data['age'].quantile(0.25)"
   ]
  },
  {
   "cell_type": "code",
   "execution_count": 25,
   "id": "42207763",
   "metadata": {},
   "outputs": [
    {
     "data": {
      "text/plain": [
       "48.0"
      ]
     },
     "execution_count": 25,
     "metadata": {},
     "output_type": "execute_result"
    }
   ],
   "source": [
    "# 2ème quantile : 50 %\n",
    "data['age'].quantile(0.50)"
   ]
  },
  {
   "cell_type": "code",
   "execution_count": 26,
   "id": "ec8249cc",
   "metadata": {},
   "outputs": [
    {
     "data": {
      "text/plain": [
       "60.0"
      ]
     },
     "execution_count": 26,
     "metadata": {},
     "output_type": "execute_result"
    }
   ],
   "source": [
    "# 3ème quantile : 75 % \n",
    "data['age'].quantile(0.75)"
   ]
  },
  {
   "cell_type": "markdown",
   "id": "55f308f7",
   "metadata": {},
   "source": [
    "# STRUCTURE DES DONNÉES ET RÉSUMÉ STATISTIQUE"
   ]
  },
  {
   "cell_type": "markdown",
   "id": "7899a70c",
   "metadata": {},
   "source": [
    "### STRUCTURE DES DONNÉES"
   ]
  },
  {
   "cell_type": "code",
   "execution_count": 27,
   "id": "affd9673",
   "metadata": {},
   "outputs": [
    {
     "name": "stdout",
     "output_type": "stream",
     "text": [
      "<class 'pandas.core.frame.DataFrame'>\n",
      "RangeIndex: 2000 entries, 0 to 1999\n",
      "Data columns (total 20 columns):\n",
      " #   Column         Non-Null Count  Dtype  \n",
      "---  ------         --------------  -----  \n",
      " 0   id             2000 non-null   int64  \n",
      " 1   age            2000 non-null   int64  \n",
      " 2   sexe           2000 non-null   object \n",
      " 3   nivetud        1888 non-null   object \n",
      " 4   poids          2000 non-null   float64\n",
      " 5   occup          2000 non-null   object \n",
      " 6   qualif         1653 non-null   object \n",
      " 7   freres.soeurs  2000 non-null   int64  \n",
      " 8   clso           2000 non-null   object \n",
      " 9   relig          2000 non-null   object \n",
      " 10  trav.imp       1048 non-null   object \n",
      " 11  trav.satisf    1048 non-null   object \n",
      " 12  hard.rock      2000 non-null   object \n",
      " 13  lecture.bd     2000 non-null   object \n",
      " 14  peche.chasse   2000 non-null   object \n",
      " 15  cuisine        2000 non-null   object \n",
      " 16  bricol         2000 non-null   object \n",
      " 17  cinema         2000 non-null   object \n",
      " 18  sport          2000 non-null   object \n",
      " 19  heures.tv      1995 non-null   float64\n",
      "dtypes: float64(2), int64(3), object(15)\n",
      "memory usage: 312.6+ KB\n"
     ]
    }
   ],
   "source": [
    "# Structure des données\n",
    "data.info()"
   ]
  },
  {
   "cell_type": "markdown",
   "id": "4b7b5b95",
   "metadata": {},
   "source": [
    "### RÉSUMÉ STATISTIQUE"
   ]
  },
  {
   "cell_type": "code",
   "execution_count": 28,
   "id": "76d8096b",
   "metadata": {},
   "outputs": [
    {
     "data": {
      "text/html": [
       "<div>\n",
       "<style scoped>\n",
       "    .dataframe tbody tr th:only-of-type {\n",
       "        vertical-align: middle;\n",
       "    }\n",
       "\n",
       "    .dataframe tbody tr th {\n",
       "        vertical-align: top;\n",
       "    }\n",
       "\n",
       "    .dataframe thead th {\n",
       "        text-align: right;\n",
       "    }\n",
       "</style>\n",
       "<table border=\"1\" class=\"dataframe\">\n",
       "  <thead>\n",
       "    <tr style=\"text-align: right;\">\n",
       "      <th></th>\n",
       "      <th>age</th>\n",
       "      <th>sexe</th>\n",
       "      <th>occup</th>\n",
       "      <th>qualif</th>\n",
       "    </tr>\n",
       "  </thead>\n",
       "  <tbody>\n",
       "    <tr>\n",
       "      <th>count</th>\n",
       "      <td>2000.000000</td>\n",
       "      <td>2000</td>\n",
       "      <td>2000</td>\n",
       "      <td>1653</td>\n",
       "    </tr>\n",
       "    <tr>\n",
       "      <th>unique</th>\n",
       "      <td>NaN</td>\n",
       "      <td>2</td>\n",
       "      <td>7</td>\n",
       "      <td>7</td>\n",
       "    </tr>\n",
       "    <tr>\n",
       "      <th>top</th>\n",
       "      <td>NaN</td>\n",
       "      <td>Femme</td>\n",
       "      <td>Exerce une profession</td>\n",
       "      <td>Employe</td>\n",
       "    </tr>\n",
       "    <tr>\n",
       "      <th>freq</th>\n",
       "      <td>NaN</td>\n",
       "      <td>1101</td>\n",
       "      <td>1049</td>\n",
       "      <td>594</td>\n",
       "    </tr>\n",
       "    <tr>\n",
       "      <th>mean</th>\n",
       "      <td>48.157000</td>\n",
       "      <td>NaN</td>\n",
       "      <td>NaN</td>\n",
       "      <td>NaN</td>\n",
       "    </tr>\n",
       "    <tr>\n",
       "      <th>std</th>\n",
       "      <td>16.941808</td>\n",
       "      <td>NaN</td>\n",
       "      <td>NaN</td>\n",
       "      <td>NaN</td>\n",
       "    </tr>\n",
       "    <tr>\n",
       "      <th>min</th>\n",
       "      <td>18.000000</td>\n",
       "      <td>NaN</td>\n",
       "      <td>NaN</td>\n",
       "      <td>NaN</td>\n",
       "    </tr>\n",
       "    <tr>\n",
       "      <th>25%</th>\n",
       "      <td>35.000000</td>\n",
       "      <td>NaN</td>\n",
       "      <td>NaN</td>\n",
       "      <td>NaN</td>\n",
       "    </tr>\n",
       "    <tr>\n",
       "      <th>50%</th>\n",
       "      <td>48.000000</td>\n",
       "      <td>NaN</td>\n",
       "      <td>NaN</td>\n",
       "      <td>NaN</td>\n",
       "    </tr>\n",
       "    <tr>\n",
       "      <th>75%</th>\n",
       "      <td>60.000000</td>\n",
       "      <td>NaN</td>\n",
       "      <td>NaN</td>\n",
       "      <td>NaN</td>\n",
       "    </tr>\n",
       "    <tr>\n",
       "      <th>max</th>\n",
       "      <td>97.000000</td>\n",
       "      <td>NaN</td>\n",
       "      <td>NaN</td>\n",
       "      <td>NaN</td>\n",
       "    </tr>\n",
       "  </tbody>\n",
       "</table>\n",
       "</div>"
      ],
      "text/plain": [
       "                age   sexe                  occup   qualif\n",
       "count   2000.000000   2000                   2000     1653\n",
       "unique          NaN      2                      7        7\n",
       "top             NaN  Femme  Exerce une profession  Employe\n",
       "freq            NaN   1101                   1049      594\n",
       "mean      48.157000    NaN                    NaN      NaN\n",
       "std       16.941808    NaN                    NaN      NaN\n",
       "min       18.000000    NaN                    NaN      NaN\n",
       "25%       35.000000    NaN                    NaN      NaN\n",
       "50%       48.000000    NaN                    NaN      NaN\n",
       "75%       60.000000    NaN                    NaN      NaN\n",
       "max       97.000000    NaN                    NaN      NaN"
      ]
     },
     "execution_count": 28,
     "metadata": {},
     "output_type": "execute_result"
    }
   ],
   "source": [
    "# Résumé statistique des variables age, sexe, occup et qualif\n",
    "data[['age', 'sexe', 'occup', 'qualif']].describe(include='all')"
   ]
  },
  {
   "cell_type": "code",
   "execution_count": 29,
   "id": "6f3039df",
   "metadata": {},
   "outputs": [
    {
     "data": {
      "text/html": [
       "<div>\n",
       "<style scoped>\n",
       "    .dataframe tbody tr th:only-of-type {\n",
       "        vertical-align: middle;\n",
       "    }\n",
       "\n",
       "    .dataframe tbody tr th {\n",
       "        vertical-align: top;\n",
       "    }\n",
       "\n",
       "    .dataframe thead th {\n",
       "        text-align: right;\n",
       "    }\n",
       "</style>\n",
       "<table border=\"1\" class=\"dataframe\">\n",
       "  <thead>\n",
       "    <tr style=\"text-align: right;\">\n",
       "      <th></th>\n",
       "      <th>id</th>\n",
       "      <th>age</th>\n",
       "      <th>sexe</th>\n",
       "      <th>nivetud</th>\n",
       "      <th>poids</th>\n",
       "      <th>occup</th>\n",
       "      <th>qualif</th>\n",
       "      <th>freres.soeurs</th>\n",
       "      <th>clso</th>\n",
       "      <th>relig</th>\n",
       "      <th>trav.imp</th>\n",
       "      <th>trav.satisf</th>\n",
       "      <th>hard.rock</th>\n",
       "      <th>lecture.bd</th>\n",
       "      <th>peche.chasse</th>\n",
       "      <th>cuisine</th>\n",
       "      <th>bricol</th>\n",
       "      <th>cinema</th>\n",
       "      <th>sport</th>\n",
       "      <th>heures.tv</th>\n",
       "    </tr>\n",
       "  </thead>\n",
       "  <tbody>\n",
       "    <tr>\n",
       "      <th>count</th>\n",
       "      <td>2000.000000</td>\n",
       "      <td>2000.000000</td>\n",
       "      <td>2000</td>\n",
       "      <td>1888</td>\n",
       "      <td>2000.000000</td>\n",
       "      <td>2000</td>\n",
       "      <td>1653</td>\n",
       "      <td>2000.000000</td>\n",
       "      <td>2000</td>\n",
       "      <td>2000</td>\n",
       "      <td>1048</td>\n",
       "      <td>1048</td>\n",
       "      <td>2000</td>\n",
       "      <td>2000</td>\n",
       "      <td>2000</td>\n",
       "      <td>2000</td>\n",
       "      <td>2000</td>\n",
       "      <td>2000</td>\n",
       "      <td>2000</td>\n",
       "      <td>1995.000000</td>\n",
       "    </tr>\n",
       "    <tr>\n",
       "      <th>unique</th>\n",
       "      <td>NaN</td>\n",
       "      <td>NaN</td>\n",
       "      <td>2</td>\n",
       "      <td>8</td>\n",
       "      <td>NaN</td>\n",
       "      <td>7</td>\n",
       "      <td>7</td>\n",
       "      <td>NaN</td>\n",
       "      <td>3</td>\n",
       "      <td>6</td>\n",
       "      <td>4</td>\n",
       "      <td>3</td>\n",
       "      <td>2</td>\n",
       "      <td>2</td>\n",
       "      <td>2</td>\n",
       "      <td>2</td>\n",
       "      <td>2</td>\n",
       "      <td>2</td>\n",
       "      <td>2</td>\n",
       "      <td>NaN</td>\n",
       "    </tr>\n",
       "    <tr>\n",
       "      <th>top</th>\n",
       "      <td>NaN</td>\n",
       "      <td>NaN</td>\n",
       "      <td>Femme</td>\n",
       "      <td>Enseignement technique ou professionnel court</td>\n",
       "      <td>NaN</td>\n",
       "      <td>Exerce une profession</td>\n",
       "      <td>Employe</td>\n",
       "      <td>NaN</td>\n",
       "      <td>Non</td>\n",
       "      <td>Appartenance sans pratique</td>\n",
       "      <td>Moins important que le reste</td>\n",
       "      <td>Satisfaction</td>\n",
       "      <td>Non</td>\n",
       "      <td>Non</td>\n",
       "      <td>Non</td>\n",
       "      <td>Non</td>\n",
       "      <td>Non</td>\n",
       "      <td>Non</td>\n",
       "      <td>Non</td>\n",
       "      <td>NaN</td>\n",
       "    </tr>\n",
       "    <tr>\n",
       "      <th>freq</th>\n",
       "      <td>NaN</td>\n",
       "      <td>NaN</td>\n",
       "      <td>1101</td>\n",
       "      <td>463</td>\n",
       "      <td>NaN</td>\n",
       "      <td>1049</td>\n",
       "      <td>594</td>\n",
       "      <td>NaN</td>\n",
       "      <td>1037</td>\n",
       "      <td>760</td>\n",
       "      <td>708</td>\n",
       "      <td>480</td>\n",
       "      <td>1986</td>\n",
       "      <td>1953</td>\n",
       "      <td>1776</td>\n",
       "      <td>1119</td>\n",
       "      <td>1147</td>\n",
       "      <td>1174</td>\n",
       "      <td>1277</td>\n",
       "      <td>NaN</td>\n",
       "    </tr>\n",
       "    <tr>\n",
       "      <th>mean</th>\n",
       "      <td>1000.500000</td>\n",
       "      <td>48.157000</td>\n",
       "      <td>NaN</td>\n",
       "      <td>NaN</td>\n",
       "      <td>5535.613169</td>\n",
       "      <td>NaN</td>\n",
       "      <td>NaN</td>\n",
       "      <td>3.283000</td>\n",
       "      <td>NaN</td>\n",
       "      <td>NaN</td>\n",
       "      <td>NaN</td>\n",
       "      <td>NaN</td>\n",
       "      <td>NaN</td>\n",
       "      <td>NaN</td>\n",
       "      <td>NaN</td>\n",
       "      <td>NaN</td>\n",
       "      <td>NaN</td>\n",
       "      <td>NaN</td>\n",
       "      <td>NaN</td>\n",
       "      <td>2.246566</td>\n",
       "    </tr>\n",
       "    <tr>\n",
       "      <th>std</th>\n",
       "      <td>577.494589</td>\n",
       "      <td>16.941808</td>\n",
       "      <td>NaN</td>\n",
       "      <td>NaN</td>\n",
       "      <td>4375.030379</td>\n",
       "      <td>NaN</td>\n",
       "      <td>NaN</td>\n",
       "      <td>2.766539</td>\n",
       "      <td>NaN</td>\n",
       "      <td>NaN</td>\n",
       "      <td>NaN</td>\n",
       "      <td>NaN</td>\n",
       "      <td>NaN</td>\n",
       "      <td>NaN</td>\n",
       "      <td>NaN</td>\n",
       "      <td>NaN</td>\n",
       "      <td>NaN</td>\n",
       "      <td>NaN</td>\n",
       "      <td>NaN</td>\n",
       "      <td>1.775853</td>\n",
       "    </tr>\n",
       "    <tr>\n",
       "      <th>min</th>\n",
       "      <td>1.000000</td>\n",
       "      <td>18.000000</td>\n",
       "      <td>NaN</td>\n",
       "      <td>NaN</td>\n",
       "      <td>78.078340</td>\n",
       "      <td>NaN</td>\n",
       "      <td>NaN</td>\n",
       "      <td>0.000000</td>\n",
       "      <td>NaN</td>\n",
       "      <td>NaN</td>\n",
       "      <td>NaN</td>\n",
       "      <td>NaN</td>\n",
       "      <td>NaN</td>\n",
       "      <td>NaN</td>\n",
       "      <td>NaN</td>\n",
       "      <td>NaN</td>\n",
       "      <td>NaN</td>\n",
       "      <td>NaN</td>\n",
       "      <td>NaN</td>\n",
       "      <td>0.000000</td>\n",
       "    </tr>\n",
       "    <tr>\n",
       "      <th>25%</th>\n",
       "      <td>500.750000</td>\n",
       "      <td>35.000000</td>\n",
       "      <td>NaN</td>\n",
       "      <td>NaN</td>\n",
       "      <td>2221.822478</td>\n",
       "      <td>NaN</td>\n",
       "      <td>NaN</td>\n",
       "      <td>1.000000</td>\n",
       "      <td>NaN</td>\n",
       "      <td>NaN</td>\n",
       "      <td>NaN</td>\n",
       "      <td>NaN</td>\n",
       "      <td>NaN</td>\n",
       "      <td>NaN</td>\n",
       "      <td>NaN</td>\n",
       "      <td>NaN</td>\n",
       "      <td>NaN</td>\n",
       "      <td>NaN</td>\n",
       "      <td>NaN</td>\n",
       "      <td>1.000000</td>\n",
       "    </tr>\n",
       "    <tr>\n",
       "      <th>50%</th>\n",
       "      <td>1000.500000</td>\n",
       "      <td>48.000000</td>\n",
       "      <td>NaN</td>\n",
       "      <td>NaN</td>\n",
       "      <td>4631.188371</td>\n",
       "      <td>NaN</td>\n",
       "      <td>NaN</td>\n",
       "      <td>2.000000</td>\n",
       "      <td>NaN</td>\n",
       "      <td>NaN</td>\n",
       "      <td>NaN</td>\n",
       "      <td>NaN</td>\n",
       "      <td>NaN</td>\n",
       "      <td>NaN</td>\n",
       "      <td>NaN</td>\n",
       "      <td>NaN</td>\n",
       "      <td>NaN</td>\n",
       "      <td>NaN</td>\n",
       "      <td>NaN</td>\n",
       "      <td>2.000000</td>\n",
       "    </tr>\n",
       "    <tr>\n",
       "      <th>75%</th>\n",
       "      <td>1500.250000</td>\n",
       "      <td>60.000000</td>\n",
       "      <td>NaN</td>\n",
       "      <td>NaN</td>\n",
       "      <td>7626.535189</td>\n",
       "      <td>NaN</td>\n",
       "      <td>NaN</td>\n",
       "      <td>5.000000</td>\n",
       "      <td>NaN</td>\n",
       "      <td>NaN</td>\n",
       "      <td>NaN</td>\n",
       "      <td>NaN</td>\n",
       "      <td>NaN</td>\n",
       "      <td>NaN</td>\n",
       "      <td>NaN</td>\n",
       "      <td>NaN</td>\n",
       "      <td>NaN</td>\n",
       "      <td>NaN</td>\n",
       "      <td>NaN</td>\n",
       "      <td>3.000000</td>\n",
       "    </tr>\n",
       "    <tr>\n",
       "      <th>max</th>\n",
       "      <td>2000.000000</td>\n",
       "      <td>97.000000</td>\n",
       "      <td>NaN</td>\n",
       "      <td>NaN</td>\n",
       "      <td>31092.141320</td>\n",
       "      <td>NaN</td>\n",
       "      <td>NaN</td>\n",
       "      <td>22.000000</td>\n",
       "      <td>NaN</td>\n",
       "      <td>NaN</td>\n",
       "      <td>NaN</td>\n",
       "      <td>NaN</td>\n",
       "      <td>NaN</td>\n",
       "      <td>NaN</td>\n",
       "      <td>NaN</td>\n",
       "      <td>NaN</td>\n",
       "      <td>NaN</td>\n",
       "      <td>NaN</td>\n",
       "      <td>NaN</td>\n",
       "      <td>12.000000</td>\n",
       "    </tr>\n",
       "  </tbody>\n",
       "</table>\n",
       "</div>"
      ],
      "text/plain": [
       "                 id          age   sexe  \\\n",
       "count   2000.000000  2000.000000   2000   \n",
       "unique          NaN          NaN      2   \n",
       "top             NaN          NaN  Femme   \n",
       "freq            NaN          NaN   1101   \n",
       "mean    1000.500000    48.157000    NaN   \n",
       "std      577.494589    16.941808    NaN   \n",
       "min        1.000000    18.000000    NaN   \n",
       "25%      500.750000    35.000000    NaN   \n",
       "50%     1000.500000    48.000000    NaN   \n",
       "75%     1500.250000    60.000000    NaN   \n",
       "max     2000.000000    97.000000    NaN   \n",
       "\n",
       "                                              nivetud         poids  \\\n",
       "count                                            1888   2000.000000   \n",
       "unique                                              8           NaN   \n",
       "top     Enseignement technique ou professionnel court           NaN   \n",
       "freq                                              463           NaN   \n",
       "mean                                              NaN   5535.613169   \n",
       "std                                               NaN   4375.030379   \n",
       "min                                               NaN     78.078340   \n",
       "25%                                               NaN   2221.822478   \n",
       "50%                                               NaN   4631.188371   \n",
       "75%                                               NaN   7626.535189   \n",
       "max                                               NaN  31092.141320   \n",
       "\n",
       "                        occup   qualif  freres.soeurs  clso  \\\n",
       "count                    2000     1653    2000.000000  2000   \n",
       "unique                      7        7            NaN     3   \n",
       "top     Exerce une profession  Employe            NaN   Non   \n",
       "freq                     1049      594            NaN  1037   \n",
       "mean                      NaN      NaN       3.283000   NaN   \n",
       "std                       NaN      NaN       2.766539   NaN   \n",
       "min                       NaN      NaN       0.000000   NaN   \n",
       "25%                       NaN      NaN       1.000000   NaN   \n",
       "50%                       NaN      NaN       2.000000   NaN   \n",
       "75%                       NaN      NaN       5.000000   NaN   \n",
       "max                       NaN      NaN      22.000000   NaN   \n",
       "\n",
       "                             relig                      trav.imp  \\\n",
       "count                         2000                          1048   \n",
       "unique                           6                             4   \n",
       "top     Appartenance sans pratique  Moins important que le reste   \n",
       "freq                           760                           708   \n",
       "mean                           NaN                           NaN   \n",
       "std                            NaN                           NaN   \n",
       "min                            NaN                           NaN   \n",
       "25%                            NaN                           NaN   \n",
       "50%                            NaN                           NaN   \n",
       "75%                            NaN                           NaN   \n",
       "max                            NaN                           NaN   \n",
       "\n",
       "         trav.satisf hard.rock lecture.bd peche.chasse cuisine bricol cinema  \\\n",
       "count           1048      2000       2000         2000    2000   2000   2000   \n",
       "unique             3         2          2            2       2      2      2   \n",
       "top     Satisfaction       Non        Non          Non     Non    Non    Non   \n",
       "freq             480      1986       1953         1776    1119   1147   1174   \n",
       "mean             NaN       NaN        NaN          NaN     NaN    NaN    NaN   \n",
       "std              NaN       NaN        NaN          NaN     NaN    NaN    NaN   \n",
       "min              NaN       NaN        NaN          NaN     NaN    NaN    NaN   \n",
       "25%              NaN       NaN        NaN          NaN     NaN    NaN    NaN   \n",
       "50%              NaN       NaN        NaN          NaN     NaN    NaN    NaN   \n",
       "75%              NaN       NaN        NaN          NaN     NaN    NaN    NaN   \n",
       "max              NaN       NaN        NaN          NaN     NaN    NaN    NaN   \n",
       "\n",
       "       sport    heures.tv  \n",
       "count   2000  1995.000000  \n",
       "unique     2          NaN  \n",
       "top      Non          NaN  \n",
       "freq    1277          NaN  \n",
       "mean     NaN     2.246566  \n",
       "std      NaN     1.775853  \n",
       "min      NaN     0.000000  \n",
       "25%      NaN     1.000000  \n",
       "50%      NaN     2.000000  \n",
       "75%      NaN     3.000000  \n",
       "max      NaN    12.000000  "
      ]
     },
     "execution_count": 29,
     "metadata": {},
     "output_type": "execute_result"
    }
   ],
   "source": [
    "data.describe(include='all')"
   ]
  },
  {
   "cell_type": "code",
   "execution_count": null,
   "id": "59cadbf9",
   "metadata": {},
   "outputs": [],
   "source": []
  },
  {
   "cell_type": "code",
   "execution_count": null,
   "id": "45fcf277",
   "metadata": {},
   "outputs": [],
   "source": []
  },
  {
   "cell_type": "code",
   "execution_count": null,
   "id": "0874e18b",
   "metadata": {},
   "outputs": [],
   "source": []
  }
 ],
 "metadata": {
  "kernelspec": {
   "display_name": "Python 3 (ipykernel)",
   "language": "python",
   "name": "python3"
  },
  "language_info": {
   "codemirror_mode": {
    "name": "ipython",
    "version": 3
   },
   "file_extension": ".py",
   "mimetype": "text/x-python",
   "name": "python",
   "nbconvert_exporter": "python",
   "pygments_lexer": "ipython3",
   "version": "3.10.6"
  }
 },
 "nbformat": 4,
 "nbformat_minor": 5
}
