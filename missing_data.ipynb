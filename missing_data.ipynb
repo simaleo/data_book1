{
 "cells": [
  {
   "cell_type": "markdown",
   "id": "d5112ef5",
   "metadata": {},
   "source": [
    "# TRAITEMENT DES VALEURS MANQUANTES"
   ]
  },
  {
   "cell_type": "code",
   "execution_count": 1,
   "id": "e0e19ef2",
   "metadata": {},
   "outputs": [],
   "source": [
    "# Importation de la librairie\n",
    "import pandas as pd"
   ]
  },
  {
   "cell_type": "code",
   "execution_count": 2,
   "id": "383ee4fa",
   "metadata": {},
   "outputs": [],
   "source": [
    "# Importation des données depuis mon site GitHub\n",
    "url = \"https://raw.githubusercontent.com/simaleo/data_book1/main/hdv2003.csv\"\n",
    "data = pd.read_csv(url)"
   ]
  },
  {
   "cell_type": "code",
   "execution_count": 3,
   "id": "5dfbec6e",
   "metadata": {},
   "outputs": [
    {
     "data": {
      "text/plain": [
       "id                 0\n",
       "age                0\n",
       "sexe               0\n",
       "nivetud          112\n",
       "poids              0\n",
       "occup              0\n",
       "qualif           347\n",
       "freres.soeurs      0\n",
       "clso               0\n",
       "relig              0\n",
       "trav.imp         952\n",
       "trav.satisf      952\n",
       "hard.rock          0\n",
       "lecture.bd         0\n",
       "peche.chasse       0\n",
       "cuisine            0\n",
       "bricol             0\n",
       "cinema             0\n",
       "sport              0\n",
       "heures.tv          5\n",
       "dtype: int64"
      ]
     },
     "execution_count": 3,
     "metadata": {},
     "output_type": "execute_result"
    }
   ],
   "source": [
    "# Nombre de valeurs manquantes par variables\n",
    "data.isna().sum()"
   ]
  },
  {
   "cell_type": "code",
   "execution_count": 4,
   "id": "8fc97666",
   "metadata": {},
   "outputs": [
    {
     "data": {
      "text/plain": [
       "id                0.00\n",
       "age               0.00\n",
       "sexe              0.00\n",
       "nivetud           5.60\n",
       "poids             0.00\n",
       "occup             0.00\n",
       "qualif           17.35\n",
       "freres.soeurs     0.00\n",
       "clso              0.00\n",
       "relig             0.00\n",
       "trav.imp         47.60\n",
       "trav.satisf      47.60\n",
       "hard.rock         0.00\n",
       "lecture.bd        0.00\n",
       "peche.chasse      0.00\n",
       "cuisine           0.00\n",
       "bricol            0.00\n",
       "cinema            0.00\n",
       "sport             0.00\n",
       "heures.tv         0.25\n",
       "dtype: float64"
      ]
     },
     "execution_count": 4,
     "metadata": {},
     "output_type": "execute_result"
    }
   ],
   "source": [
    "# Pourcentage du nombre de valeurs manquantes par variables\n",
    "data.isna().sum() * 100/2000"
   ]
  },
  {
   "cell_type": "code",
   "execution_count": 5,
   "id": "d8d0e644",
   "metadata": {},
   "outputs": [
    {
     "data": {
      "text/plain": [
       "2000"
      ]
     },
     "execution_count": 5,
     "metadata": {},
     "output_type": "execute_result"
    }
   ],
   "source": [
    "# Nombre de lignes avant la suppression des valeurs manquantes\n",
    "data.shape[0]"
   ]
  },
  {
   "cell_type": "code",
   "execution_count": 6,
   "id": "b2e4720e",
   "metadata": {},
   "outputs": [
    {
     "data": {
      "text/plain": [
       "934"
      ]
     },
     "execution_count": 6,
     "metadata": {},
     "output_type": "execute_result"
    }
   ],
   "source": [
    "# Suppression des valeurs manquantes\n",
    "df = data.dropna()\n",
    "\n",
    "# Nombre de lignes restantes\n",
    "df.shape[0]"
   ]
  },
  {
   "cell_type": "code",
   "execution_count": 7,
   "id": "f288b895",
   "metadata": {},
   "outputs": [
    {
     "data": {
      "text/plain": [
       "1066"
      ]
     },
     "execution_count": 7,
     "metadata": {},
     "output_type": "execute_result"
    }
   ],
   "source": [
    "a = 2000-934\n",
    "a1 = a*100/2000\n",
    "a"
   ]
  },
  {
   "cell_type": "code",
   "execution_count": 8,
   "id": "1619b292",
   "metadata": {},
   "outputs": [
    {
     "data": {
      "text/plain": [
       "(2000, 20)"
      ]
     },
     "execution_count": 8,
     "metadata": {},
     "output_type": "execute_result"
    }
   ],
   "source": [
    "# Nombre de lignes et de colonnes avant la suppression\n",
    "data.shape"
   ]
  },
  {
   "cell_type": "code",
   "execution_count": 9,
   "id": "5fca209f",
   "metadata": {},
   "outputs": [
    {
     "data": {
      "text/plain": [
       "(2000, 17)"
      ]
     },
     "execution_count": 9,
     "metadata": {},
     "output_type": "execute_result"
    }
   ],
   "source": [
    "# Suppression des colonnes avec plus de 10% des valeurs manquantes\n",
    "dt = data.drop(columns = ['qualif', 'trav.imp', 'trav.satisf'])\n",
    "\n",
    "# Nombre de lignes et de colonnes après la suppression\n",
    "dt.shape"
   ]
  },
  {
   "cell_type": "code",
   "execution_count": 10,
   "id": "88300e89",
   "metadata": {},
   "outputs": [
    {
     "data": {
      "text/plain": [
       "(2000, 17)"
      ]
     },
     "execution_count": 10,
     "metadata": {},
     "output_type": "execute_result"
    }
   ],
   "source": [
    "# Nombre de lignes avant la suppresion des valeurs manquantes \n",
    "dt.shape"
   ]
  },
  {
   "cell_type": "code",
   "execution_count": 11,
   "id": "f1fa1e28",
   "metadata": {},
   "outputs": [
    {
     "data": {
      "text/plain": [
       "(1883, 17)"
      ]
     },
     "execution_count": 11,
     "metadata": {},
     "output_type": "execute_result"
    }
   ],
   "source": [
    "# Suppression des valeurs manquantes\n",
    "dr = dt.dropna()\n",
    "\n",
    "# Nombre de lignes après la suppresion des valeurs manquantes \n",
    "dr.shape"
   ]
  },
  {
   "cell_type": "code",
   "execution_count": 12,
   "id": "324c25f4",
   "metadata": {},
   "outputs": [
    {
     "data": {
      "text/plain": [
       "5.85"
      ]
     },
     "execution_count": 12,
     "metadata": {},
     "output_type": "execute_result"
    }
   ],
   "source": [
    "b = 2000-1883\n",
    "b1 = b*100/2000\n",
    "b1"
   ]
  },
  {
   "cell_type": "code",
   "execution_count": 13,
   "id": "193a6600",
   "metadata": {},
   "outputs": [
    {
     "data": {
      "text/plain": [
       "(2000, 20)"
      ]
     },
     "execution_count": 13,
     "metadata": {},
     "output_type": "execute_result"
    }
   ],
   "source": [
    "data.shape"
   ]
  },
  {
   "cell_type": "code",
   "execution_count": 14,
   "id": "7dd36b33",
   "metadata": {},
   "outputs": [
    {
     "data": {
      "text/plain": [
       "id               0\n",
       "age              0\n",
       "sexe             0\n",
       "nivetud          0\n",
       "poids            0\n",
       "occup            0\n",
       "qualif           0\n",
       "freres.soeurs    0\n",
       "clso             0\n",
       "relig            0\n",
       "trav.imp         0\n",
       "trav.satisf      0\n",
       "hard.rock        0\n",
       "lecture.bd       0\n",
       "peche.chasse     0\n",
       "cuisine          0\n",
       "bricol           0\n",
       "cinema           0\n",
       "sport            0\n",
       "heures.tv        0\n",
       "dtype: int64"
      ]
     },
     "execution_count": 14,
     "metadata": {},
     "output_type": "execute_result"
    }
   ],
   "source": [
    "# Methode: ffill\n",
    "de = data.fillna(method='ffill') \n",
    "\n",
    "de.isna().sum()"
   ]
  },
  {
   "cell_type": "code",
   "execution_count": 15,
   "id": "25820760",
   "metadata": {},
   "outputs": [
    {
     "data": {
      "text/plain": [
       "id               0\n",
       "age              0\n",
       "sexe             0\n",
       "nivetud          0\n",
       "poids            0\n",
       "occup            0\n",
       "qualif           0\n",
       "freres.soeurs    0\n",
       "clso             0\n",
       "relig            0\n",
       "trav.imp         1\n",
       "trav.satisf      1\n",
       "hard.rock        0\n",
       "lecture.bd       0\n",
       "peche.chasse     0\n",
       "cuisine          0\n",
       "bricol           0\n",
       "cinema           0\n",
       "sport            0\n",
       "heures.tv        0\n",
       "dtype: int64"
      ]
     },
     "execution_count": 15,
     "metadata": {},
     "output_type": "execute_result"
    }
   ],
   "source": [
    "# Methode: bfill\n",
    "dp = data.fillna(method='bfill')\n",
    "\n",
    "dp.isna().sum()"
   ]
  },
  {
   "cell_type": "code",
   "execution_count": null,
   "id": "becf79a3",
   "metadata": {},
   "outputs": [],
   "source": []
  },
  {
   "cell_type": "code",
   "execution_count": null,
   "id": "ecdeba8e",
   "metadata": {},
   "outputs": [],
   "source": []
  }
 ],
 "metadata": {
  "kernelspec": {
   "display_name": "Python 3 (ipykernel)",
   "language": "python",
   "name": "python3"
  },
  "language_info": {
   "codemirror_mode": {
    "name": "ipython",
    "version": 3
   },
   "file_extension": ".py",
   "mimetype": "text/x-python",
   "name": "python",
   "nbconvert_exporter": "python",
   "pygments_lexer": "ipython3",
   "version": "3.10.6"
  }
 },
 "nbformat": 4,
 "nbformat_minor": 5
}
